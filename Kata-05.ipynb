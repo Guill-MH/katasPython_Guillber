{
 "cells": [
  {
   "cell_type": "markdown",
   "metadata": {},
   "source": [
    "# Ejercicio1 - Utilizar operadores aritméticos"
   ]
  },
  {
   "cell_type": "code",
   "execution_count": 23,
   "metadata": {},
   "outputs": [
    {
     "name": "stdout",
     "output_type": "stream",
     "text": [
      "628949330\n"
     ]
    }
   ],
   "source": [
    "earthDistance= int('149597870')\n",
    "jupiterDistance= int('778547200')\n",
    "#Operacion\n",
    "distance= earthDistance - jupiterDistance\n",
    "print(abs(distance))"
   ]
  },
  {
   "cell_type": "code",
   "execution_count": 24,
   "metadata": {},
   "outputs": [
    {
     "name": "stdout",
     "output_type": "stream",
     "text": [
      "390577534\n"
     ]
    }
   ],
   "source": [
    "miles = distance * 0.621\n",
    "print(round(abs(miles)))"
   ]
  },
  {
   "cell_type": "markdown",
   "metadata": {},
   "source": [
    "## Ejercicio 2: convierte cadenas en números y usa valores absolutos"
   ]
  },
  {
   "cell_type": "code",
   "execution_count": 73,
   "metadata": {},
   "outputs": [],
   "source": [
    "#Pedir entrada de datos\n",
    "planetOne= input('Ingresa la distancia del primer planeta')\n",
    "planetTwo= input('Ingresa la distancia del segundo planeta')\n",
    "#Convertir a cadenas a numeros \n",
    "planetOneInt = int(planetOne)\n",
    "planetTwoInt = int(planetTwo)"
   ]
  },
  {
   "cell_type": "code",
   "execution_count": 74,
   "metadata": {},
   "outputs": [
    {
     "name": "stdout",
     "output_type": "stream",
     "text": [
      "Distancia entre planetas:  50300000 \n",
      "Millas:  31236300\n"
     ]
    }
   ],
   "source": [
    "#Realizar operacion \n",
    "planetDistance= (planetOneInt) - (planetTwoInt)\n",
    "miles= planetDistance * 0.621\n",
    "print('Distancia entre planetas: ', abs(planetDistance),'\\n' 'Millas: ', abs(round(miles)) )"
   ]
  }
 ],
 "metadata": {
  "interpreter": {
   "hash": "5111d2531898d44c02d3a14ee4a57be040349f221d28a80d4b35c0a859b220c1"
  },
  "kernelspec": {
   "display_name": "Python 3.10.2 ('env': venv)",
   "language": "python",
   "name": "python3"
  },
  "language_info": {
   "codemirror_mode": {
    "name": "ipython",
    "version": 3
   },
   "file_extension": ".py",
   "mimetype": "text/x-python",
   "name": "python",
   "nbconvert_exporter": "python",
   "pygments_lexer": "ipython3",
   "version": "3.10.2"
  },
  "orig_nbformat": 4
 },
 "nbformat": 4,
 "nbformat_minor": 2
}
