{
 "cells": [
  {
   "cell_type": "markdown",
   "metadata": {},
   "source": [
    "# Kata del Modulo 1"
   ]
  },
  {
   "cell_type": "code",
   "execution_count": 3,
   "metadata": {},
   "outputs": [
    {
     "name": "stdout",
     "output_type": "stream",
     "text": [
      "Today's date is: 2022-02-10\n"
     ]
    }
   ],
   "source": [
    "#Importamos la Biblioteca\n",
    "from datetime import date\n",
    "#Se obtiene la fecha de actual\n",
    "date.today()\n",
    "#Se convierte la fecha a una cadena de texto y se agrega un mensaje.\n",
    "print(\"Today's date is: \" + str(date.today()))"
   ]
  },
  {
   "cell_type": "code",
   "execution_count": 15,
   "metadata": {},
   "outputs": [
    {
     "name": "stdout",
     "output_type": "stream",
     "text": [
      "15 parsec, is 48.923399999999994 lightyears\n"
     ]
    }
   ],
   "source": [
    "#Pide al usuario ingresar el parsec\n",
    "parsec = input(\"Introduce lightyear\")\n",
    "#Multiplica los años por el parsec, se necesita convertir parsec a tipo numero\n",
    "lightyears = 3.26156 * int(parsec)\n",
    "#Imprime el resultado de la multiplicacion, las variables se convierten a texto\n",
    "print(str(parsec) + \" parsec, is \" + str(lightyears) + \" lightyears\")"
   ]
  }
 ],
 "metadata": {
  "interpreter": {
   "hash": "fc3838883d621247721a6da82040de02d2ba2eacf31806bbadcb644e73213255"
  },
  "kernelspec": {
   "display_name": "Python 3.10.2 64-bit (windows store)",
   "language": "python",
   "name": "python3"
  },
  "language_info": {
   "codemirror_mode": {
    "name": "ipython",
    "version": 3
   },
   "file_extension": ".py",
   "mimetype": "text/x-python",
   "name": "python",
   "nbconvert_exporter": "python",
   "pygments_lexer": "ipython3",
   "version": "3.10.2"
  },
  "orig_nbformat": 4
 },
 "nbformat": 4,
 "nbformat_minor": 2
}
