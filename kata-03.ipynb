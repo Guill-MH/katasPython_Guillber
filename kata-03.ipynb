{
 "cells": [
  {
   "cell_type": "markdown",
   "metadata": {},
   "source": [
    "# Kata del Modulo 03"
   ]
  },
  {
   "cell_type": "code",
   "execution_count": 8,
   "metadata": {},
   "outputs": [
    {
     "name": "stdout",
     "output_type": "stream",
     "text": [
      "warning an asteroid is coming\n"
     ]
    }
   ],
   "source": [
    "#Un asteroide se acerca, y viaja a una velocidad de 49 km/s.\n",
    "speedAsteroid= 49\n",
    "if speedAsteroid > 25:\n",
    " print(\"warning an asteroid is coming\")\n",
    "else: \n",
    "    print(\"Get on with your day!\")\n"
   ]
  },
  {
   "cell_type": "code",
   "execution_count": 5,
   "metadata": {},
   "outputs": [
    {
     "name": "stdout",
     "output_type": "stream",
     "text": [
      "I can't see a ray of light\n"
     ]
    }
   ],
   "source": [
    "# ¡Hay uno que se dirige a la tierra ahora a una velocidad de 19 km/s! ,I can see a ray of light, I can't see a ray of light\n",
    "speed= 19\n",
    "if speed >= 20:\n",
    "       print(\"I can see a ray of light\")\n",
    "elif speed < 20: \n",
    "       print(\"I can't see a ray of light\")  \n",
    "else:  print(\"keep looking\") "
   ]
  },
  {
   "cell_type": "code",
   "execution_count": 10,
   "metadata": {},
   "outputs": [
    {
     "name": "stdout",
     "output_type": "stream",
     "text": [
      "I can see a ray of light\n"
     ]
    }
   ],
   "source": [
    "#Usando toda esta información, escribe un programa que emita la advertencia o información correcta a la gente de la Tierra, según la velocidad y el tamaño de un asteroide.\n",
    "size=28\n",
    "speed=25\n",
    "if speed > 25 and speed > 25:\n",
    " print(\"Warning\")\n",
    "elif speed >= 25:\n",
    " print(\"I can see a ray of light\")\n",
    "elif size  < 25:\n",
    " print(\"I can't see a ray of light\")\n",
    "else: print(\"I can't see a ray of light\")"
   ]
  }
 ],
 "metadata": {
  "interpreter": {
   "hash": "fc3838883d621247721a6da82040de02d2ba2eacf31806bbadcb644e73213255"
  },
  "kernelspec": {
   "display_name": "Python 3.10.2 64-bit (windows store)",
   "language": "python",
   "name": "python3"
  },
  "language_info": {
   "codemirror_mode": {
    "name": "ipython",
    "version": 3
   },
   "file_extension": ".py",
   "mimetype": "text/x-python",
   "name": "python",
   "nbconvert_exporter": "python",
   "pygments_lexer": "ipython3",
   "version": "3.10.2"
  },
  "orig_nbformat": 4
 },
 "nbformat": 4,
 "nbformat_minor": 2
}
