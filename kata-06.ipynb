{
 "cells": [
  {
   "cell_type": "markdown",
   "metadata": {},
   "source": [
    "# Ejercicio1: Crear y usar listas de Python"
   ]
  },
  {
   "cell_type": "code",
   "execution_count": 65,
   "metadata": {},
   "outputs": [
    {
     "name": "stdout",
     "output_type": "stream",
     "text": [
      "Numero de planetas:  9 \n",
      "Ultimo Planeta de la lista:  Pluto\n"
     ]
    }
   ],
   "source": [
    "#Creamos una lista de planetas\n",
    "planets = ['Mercury', 'Venus', 'Earth', 'Mars', 'Jupiter', 'Saturn', 'Uranus', 'Neptune']\n",
    "planets.append('Pluto')\n",
    "number_of_planets= len(planets)\n",
    "print('Numero de planetas: ', number_of_planets, '\\n' 'Ultimo Planeta de la lista: ', planets[-1])"
   ]
  },
  {
   "cell_type": "markdown",
   "metadata": {},
   "source": [
    "## Ejercicio 2: Trabajando con datos de una lista"
   ]
  },
  {
   "cell_type": "code",
   "execution_count": 69,
   "metadata": {},
   "outputs": [
    {
     "name": "stdout",
     "output_type": "stream",
     "text": [
      "Ubicacion del nuevo planeta:  7 \n",
      "Planetas cercanos al sol que el que el usuario ingresó:  ['Mercury', 'Venus', 'Earth', 'Mars', 'Jupiter', 'Saturn', 'Neptune'] \n",
      "planetas más alejados del sol que el que el usuario ingresó:  []\n"
     ]
    }
   ],
   "source": [
    "# Lista de planetas\n",
    "planets = ['Mercury', 'Venus', 'Earth', 'Mars', 'Jupiter', 'Saturn', 'Neptune']\n",
    "new_planet= input(\"Ingresa el nombre del planeta iniciando con la  primera letra mayuscula\")\n",
    "planets.append(new_planet)\n",
    "new_planetIndex= planets.index(new_planet)\n",
    "planets_before= planets[0:new_planetIndex]\n",
    "planets_after= planets[new_planetIndex: + 1]\n",
    "print(\"Ubicacion del nuevo planeta: \", new_planetIndex, '\\n' \"Planetas cercanos al sol que el que el usuario ingresó: \", planets_before, '\\n' 'planetas más alejados del sol que el que el usuario ingresó: ', planets_after)"
   ]
  }
 ],
 "metadata": {
  "interpreter": {
   "hash": "669f5abd92f1a410df15b0643b9f42360e277a412fc08ae8bc7d7911cf7e8f3d"
  },
  "kernelspec": {
   "display_name": "Python 3.10.2 64-bit",
   "language": "python",
   "name": "python3"
  },
  "language_info": {
   "codemirror_mode": {
    "name": "ipython",
    "version": 3
   },
   "file_extension": ".py",
   "mimetype": "text/x-python",
   "name": "python",
   "nbconvert_exporter": "python",
   "pygments_lexer": "ipython3",
   "version": "3.10.2"
  },
  "orig_nbformat": 4
 },
 "nbformat": 4,
 "nbformat_minor": 2
}
