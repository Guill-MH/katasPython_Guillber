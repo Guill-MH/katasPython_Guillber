{
 "cells": [
  {
   "cell_type": "markdown",
   "metadata": {},
   "source": [
    "# Ejercicio 1: Creación de un bucle \"while\""
   ]
  },
  {
   "cell_type": "code",
   "execution_count": 21,
   "metadata": {},
   "outputs": [],
   "source": [
    "#Declaracionde variables\n",
    "new_planet= ''\n",
    "planets= []\n",
    "# Escribe el ciclo while solicitado\n",
    "while new_planet.lower() != 'done':\n",
    "   if new_planet:\n",
    "# Almacenamos ese valor en la lista\n",
    "    planets.append(new_planet)\n",
    "# Capturamos un nuevo valor\n",
    "   new_planet= input('Ingresa el planeta')\n"
   ]
  },
  {
   "cell_type": "markdown",
   "metadata": {},
   "source": [
    "## Ejercicio 2: Creación de un ciclo \"for\""
   ]
  },
  {
   "cell_type": "code",
   "execution_count": 23,
   "metadata": {},
   "outputs": [
    {
     "name": "stdout",
     "output_type": "stream",
     "text": [
      "Marte\n",
      "Urano\n",
      "Jupiter\n",
      "TIERRA\n",
      "Urano\n",
      "Felicidades has hiterado una lista 🚀\n"
     ]
    }
   ],
   "source": [
    "#Importamos la clase sleep\n",
    "from time import sleep\n",
    "#Recorremos la lista de planetas\n",
    "for planet in planets:\n",
    "    #Se imprime la lista mediante la variable planet\n",
    "    print(planet)\n",
    "\n",
    "     # Espera (1segundo)\n",
    "    sleep(1)\n",
    "    #Se imprime la finalizar el recorrido de la lista\n",
    "print('Felicidades has hiterado una lista 🚀')\n"
   ]
  }
 ],
 "metadata": {
  "interpreter": {
   "hash": "669f5abd92f1a410df15b0643b9f42360e277a412fc08ae8bc7d7911cf7e8f3d"
  },
  "kernelspec": {
   "display_name": "Python 3.10.2 64-bit",
   "language": "python",
   "name": "python3"
  },
  "language_info": {
   "codemirror_mode": {
    "name": "ipython",
    "version": 3
   },
   "file_extension": ".py",
   "mimetype": "text/x-python",
   "name": "python",
   "nbconvert_exporter": "python",
   "pygments_lexer": "ipython3",
   "version": "3.10.2"
  },
  "orig_nbformat": 4
 },
 "nbformat": 4,
 "nbformat_minor": 2
}
