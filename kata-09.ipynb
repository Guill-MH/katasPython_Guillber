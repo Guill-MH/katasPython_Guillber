{
 "cells": [
  {
   "cell_type": "markdown",
   "metadata": {},
   "source": [
    "# Ejercicio: Uso de funciones en Python"
   ]
  },
  {
   "cell_type": "markdown",
   "metadata": {},
   "source": [
    "### Ejercicio 1: Trabajar con argumentos en funciones"
   ]
  },
  {
   "cell_type": "code",
   "execution_count": 1,
   "metadata": {},
   "outputs": [],
   "source": [
    "#Se construye la funcion que va a genrar el reporte\n",
    "def info(tanqueOne, tanqueTwo, tanqueThre):\n",
    "    total_average = (tanqueOne + tanqueTwo + tanqueThre) / 3\n",
    "    return f\"\"\"Reporte:\n",
    "    TanqueOne: {tanqueOne}%\n",
    "    TanqueTwo: {tanqueTwo}%\n",
    "    TanqueThre: {tanqueThre}%\n",
    "    Promedio: {total_average}%\n",
    "    \"\"\""
   ]
  },
  {
   "cell_type": "code",
   "execution_count": 3,
   "metadata": {},
   "outputs": [
    {
     "name": "stdout",
     "output_type": "stream",
     "text": [
      "Reporte:\n",
      "    TanqueOne: 34\n",
      "    TanqueTwo: 45\n",
      "    TanqueThre: 23\n",
      "    Promedio: 34.0\n",
      "    \n"
     ]
    }
   ],
   "source": [
    "#Se imprime y se pasan los tres parametros de cada tanque\n",
    "print(info(34,45,23))"
   ]
  },
  {
   "cell_type": "code",
   "execution_count": 4,
   "metadata": {},
   "outputs": [
    {
     "data": {
      "text/plain": [
       "34.0"
      ]
     },
     "execution_count": 4,
     "metadata": {},
     "output_type": "execute_result"
    }
   ],
   "source": [
    "# Función promedio \n",
    "def average(values):\n",
    "    total = sum(values)\n",
    "    number_of_items = len(values)\n",
    "    return total / number_of_items\n",
    "\n",
    "average([34, 45, 23]) "
   ]
  },
  {
   "cell_type": "markdown",
   "metadata": {},
   "source": [
    "# Ejercicio 2: Trabajo con argumentos de palabra clave"
   ]
  },
  {
   "cell_type": "code",
   "execution_count": 13,
   "metadata": {},
   "outputs": [],
   "source": [
    "def infoReport(timeLaunch, hourLaunch, externalTank, interTank, destiny ):\n",
    "    return f\"\"\"\"Hora de desplazamiento: {hourLaunch}Hour\n",
    "                Tiempo de vuelo: {timeLaunch}Hours\n",
    "                Destino: {destiny}\n",
    "                Tanque externo: {externalTank}%\n",
    "                Tanque interno: {interTank}%\n",
    "     \"\"\""
   ]
  },
  {
   "cell_type": "code",
   "execution_count": null,
   "metadata": {},
   "outputs": [],
   "source": [
    "print(infoReport(timeLaunch=3, hourLaunch=12, externalTank=34, interTank=22, destiny='Mars'))"
   ]
  },
  {
   "cell_type": "code",
   "execution_count": 22,
   "metadata": {},
   "outputs": [],
   "source": [
    "#Nueva Funcion\n",
    "def reportInformation(destination, *minutes, **fuel_reservoirs):\n",
    "  return f\"\"\"Destino: {destination}\n",
    "       Minutos: {sum(minutes)}\n",
    "       Combustible: {sum(fuel_reservoirs.values())}\n",
    "  \"\"\""
   ]
  },
  {
   "cell_type": "code",
   "execution_count": 25,
   "metadata": {},
   "outputs": [
    {
     "name": "stdout",
     "output_type": "stream",
     "text": [
      "Destino: Moon\n",
      "       Minutos: 42\n",
      "       Combustible: 15556\n",
      "  \n"
     ]
    }
   ],
   "source": [
    "print(reportInformation(\"Moon\", 13,14,15, min=2000, external=1233, ))"
   ]
  },
  {
   "cell_type": "code",
   "execution_count": 26,
   "metadata": {},
   "outputs": [
    {
     "name": "stdout",
     "output_type": "stream",
     "text": [
      "\n",
      "    Destino: Moon\n",
      "    Minutos de viaje: 74 minutes\n",
      "    Total del tanque: 500000\n",
      "    main tank --> 300000 gallons left\n",
      "external tank --> 200000 gallons left\n",
      "\n"
     ]
    }
   ],
   "source": [
    "def mission_report(destination, *minutes, **fuel_reservoirs):\n",
    "    main_report = f\"\"\"\n",
    "    Destino: {destination}\n",
    "    Minutos de viaje: {sum(minutes)} minutes\n",
    "    Total del tanque: {sum(fuel_reservoirs.values())}\n",
    "    \"\"\"\n",
    "    for tank_name, gallons in fuel_reservoirs.items():\n",
    "        main_report += f\"{tank_name} tank --> {gallons} gallons left\\n\"\n",
    "    return main_report\n",
    "\n",
    "print(mission_report(\"Moon\", 8, 11, 55, main=300000, external=200000))"
   ]
  }
 ],
 "metadata": {
  "interpreter": {
   "hash": "669f5abd92f1a410df15b0643b9f42360e277a412fc08ae8bc7d7911cf7e8f3d"
  },
  "kernelspec": {
   "display_name": "Python 3.10.2 64-bit",
   "language": "python",
   "name": "python3"
  },
  "language_info": {
   "codemirror_mode": {
    "name": "ipython",
    "version": 3
   },
   "file_extension": ".py",
   "mimetype": "text/x-python",
   "name": "python",
   "nbconvert_exporter": "python",
   "pygments_lexer": "ipython3",
   "version": "3.10.2"
  },
  "orig_nbformat": 4
 },
 "nbformat": 4,
 "nbformat_minor": 2
}
